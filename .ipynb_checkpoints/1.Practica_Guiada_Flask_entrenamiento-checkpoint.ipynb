{
 "cells": [
  {
   "cell_type": "markdown",
   "metadata": {
    "colab_type": "text",
    "id": "8cnmoYS3p1Nx"
   },
   "source": [
    "### Dado un dataset de estudiantes con distintas caracteristicas, vamos a generar 3 modelos para predecir el puntaje de los examenes en: matematicas, lectura y escritura"
   ]
  },
  {
   "cell_type": "markdown",
   "metadata": {
    "colab_type": "text",
    "id": "lf3pngCZp1N3"
   },
   "source": [
    "## 1.- Preprocesamiento"
   ]
  },
  {
   "cell_type": "code",
   "execution_count": 1,
   "metadata": {
    "colab": {},
    "colab_type": "code",
    "id": "PGQEttRJp1N6"
   },
   "outputs": [],
   "source": [
    "import numpy as np\n",
    "import pandas as pd\n",
    "from sklearn.model_selection import train_test_split"
   ]
  },
  {
   "cell_type": "code",
   "execution_count": 2,
   "metadata": {
    "colab": {},
    "colab_type": "code",
    "id": "iDewdXR6p1OG",
    "scrolled": true
   },
   "outputs": [],
   "source": [
    "df = pd.read_csv('StudentsPerformance.csv')"
   ]
  },
  {
   "cell_type": "code",
   "execution_count": 3,
   "metadata": {
    "colab": {},
    "colab_type": "code",
    "id": "bAcWhS3np1OO",
    "outputId": "3c2aa2e2-a35b-4e07-ca13-ccb5a782014b"
   },
   "outputs": [
    {
     "data": {
      "text/html": [
       "<div>\n",
       "<style scoped>\n",
       "    .dataframe tbody tr th:only-of-type {\n",
       "        vertical-align: middle;\n",
       "    }\n",
       "\n",
       "    .dataframe tbody tr th {\n",
       "        vertical-align: top;\n",
       "    }\n",
       "\n",
       "    .dataframe thead th {\n",
       "        text-align: right;\n",
       "    }\n",
       "</style>\n",
       "<table border=\"1\" class=\"dataframe\">\n",
       "  <thead>\n",
       "    <tr style=\"text-align: right;\">\n",
       "      <th></th>\n",
       "      <th>gender</th>\n",
       "      <th>race/ethnicity</th>\n",
       "      <th>parental_level_of_education</th>\n",
       "      <th>lunch</th>\n",
       "      <th>test_preparation_course</th>\n",
       "      <th>math_score</th>\n",
       "      <th>reading_score</th>\n",
       "      <th>writing_score</th>\n",
       "    </tr>\n",
       "  </thead>\n",
       "  <tbody>\n",
       "    <tr>\n",
       "      <th>0</th>\n",
       "      <td>female</td>\n",
       "      <td>group B</td>\n",
       "      <td>bachelor's degree</td>\n",
       "      <td>standard</td>\n",
       "      <td>none</td>\n",
       "      <td>72</td>\n",
       "      <td>72</td>\n",
       "      <td>74</td>\n",
       "    </tr>\n",
       "    <tr>\n",
       "      <th>1</th>\n",
       "      <td>female</td>\n",
       "      <td>group C</td>\n",
       "      <td>some college</td>\n",
       "      <td>standard</td>\n",
       "      <td>completed</td>\n",
       "      <td>69</td>\n",
       "      <td>90</td>\n",
       "      <td>88</td>\n",
       "    </tr>\n",
       "    <tr>\n",
       "      <th>2</th>\n",
       "      <td>female</td>\n",
       "      <td>group B</td>\n",
       "      <td>master's degree</td>\n",
       "      <td>standard</td>\n",
       "      <td>none</td>\n",
       "      <td>90</td>\n",
       "      <td>95</td>\n",
       "      <td>93</td>\n",
       "    </tr>\n",
       "    <tr>\n",
       "      <th>3</th>\n",
       "      <td>male</td>\n",
       "      <td>group A</td>\n",
       "      <td>associate's degree</td>\n",
       "      <td>free/reduced</td>\n",
       "      <td>none</td>\n",
       "      <td>47</td>\n",
       "      <td>57</td>\n",
       "      <td>44</td>\n",
       "    </tr>\n",
       "  </tbody>\n",
       "</table>\n",
       "</div>"
      ],
      "text/plain": [
       "   gender race/ethnicity parental_level_of_education         lunch  \\\n",
       "0  female        group B           bachelor's degree      standard   \n",
       "1  female        group C                some college      standard   \n",
       "2  female        group B             master's degree      standard   \n",
       "3    male        group A          associate's degree  free/reduced   \n",
       "\n",
       "  test_preparation_course  math_score  reading_score  writing_score  \n",
       "0                    none          72             72             74  \n",
       "1               completed          69             90             88  \n",
       "2                    none          90             95             93  \n",
       "3                    none          47             57             44  "
      ]
     },
     "execution_count": 3,
     "metadata": {},
     "output_type": "execute_result"
    }
   ],
   "source": [
    "# reemplazamos los espacios por _ \n",
    "df.columns = [x.replace(' ', '_') for x in df.columns]\n",
    "df.head(4)"
   ]
  },
  {
   "cell_type": "code",
   "execution_count": 4,
   "metadata": {
    "colab": {},
    "colab_type": "code",
    "id": "8E_ynZGMp1Oc",
    "outputId": "5b757f79-2bf6-484a-f725-c74147e2d388"
   },
   "outputs": [
    {
     "data": {
      "text/html": [
       "<div>\n",
       "<style scoped>\n",
       "    .dataframe tbody tr th:only-of-type {\n",
       "        vertical-align: middle;\n",
       "    }\n",
       "\n",
       "    .dataframe tbody tr th {\n",
       "        vertical-align: top;\n",
       "    }\n",
       "\n",
       "    .dataframe thead th {\n",
       "        text-align: right;\n",
       "    }\n",
       "</style>\n",
       "<table border=\"1\" class=\"dataframe\">\n",
       "  <thead>\n",
       "    <tr style=\"text-align: right;\">\n",
       "      <th></th>\n",
       "      <th>math_score</th>\n",
       "      <th>reading_score</th>\n",
       "      <th>writing_score</th>\n",
       "      <th>gender_female</th>\n",
       "      <th>gender_male</th>\n",
       "      <th>race/ethnicity_group A</th>\n",
       "      <th>race/ethnicity_group B</th>\n",
       "      <th>race/ethnicity_group C</th>\n",
       "      <th>race/ethnicity_group D</th>\n",
       "      <th>race/ethnicity_group E</th>\n",
       "      <th>parental_level_of_education_associate's degree</th>\n",
       "      <th>parental_level_of_education_bachelor's degree</th>\n",
       "      <th>parental_level_of_education_high school</th>\n",
       "      <th>parental_level_of_education_master's degree</th>\n",
       "      <th>parental_level_of_education_some college</th>\n",
       "      <th>parental_level_of_education_some high school</th>\n",
       "      <th>lunch_free/reduced</th>\n",
       "      <th>lunch_standard</th>\n",
       "      <th>test_preparation_course_completed</th>\n",
       "      <th>test_preparation_course_none</th>\n",
       "    </tr>\n",
       "  </thead>\n",
       "  <tbody>\n",
       "    <tr>\n",
       "      <th>908</th>\n",
       "      <td>67</td>\n",
       "      <td>75</td>\n",
       "      <td>72</td>\n",
       "      <td>1</td>\n",
       "      <td>0</td>\n",
       "      <td>0</td>\n",
       "      <td>0</td>\n",
       "      <td>1</td>\n",
       "      <td>0</td>\n",
       "      <td>0</td>\n",
       "      <td>0</td>\n",
       "      <td>1</td>\n",
       "      <td>0</td>\n",
       "      <td>0</td>\n",
       "      <td>0</td>\n",
       "      <td>0</td>\n",
       "      <td>1</td>\n",
       "      <td>0</td>\n",
       "      <td>0</td>\n",
       "      <td>1</td>\n",
       "    </tr>\n",
       "    <tr>\n",
       "      <th>645</th>\n",
       "      <td>65</td>\n",
       "      <td>81</td>\n",
       "      <td>81</td>\n",
       "      <td>1</td>\n",
       "      <td>0</td>\n",
       "      <td>0</td>\n",
       "      <td>1</td>\n",
       "      <td>0</td>\n",
       "      <td>0</td>\n",
       "      <td>0</td>\n",
       "      <td>0</td>\n",
       "      <td>1</td>\n",
       "      <td>0</td>\n",
       "      <td>0</td>\n",
       "      <td>0</td>\n",
       "      <td>0</td>\n",
       "      <td>0</td>\n",
       "      <td>1</td>\n",
       "      <td>1</td>\n",
       "      <td>0</td>\n",
       "    </tr>\n",
       "    <tr>\n",
       "      <th>132</th>\n",
       "      <td>87</td>\n",
       "      <td>74</td>\n",
       "      <td>70</td>\n",
       "      <td>0</td>\n",
       "      <td>1</td>\n",
       "      <td>0</td>\n",
       "      <td>0</td>\n",
       "      <td>0</td>\n",
       "      <td>0</td>\n",
       "      <td>1</td>\n",
       "      <td>0</td>\n",
       "      <td>0</td>\n",
       "      <td>0</td>\n",
       "      <td>0</td>\n",
       "      <td>1</td>\n",
       "      <td>0</td>\n",
       "      <td>1</td>\n",
       "      <td>0</td>\n",
       "      <td>1</td>\n",
       "      <td>0</td>\n",
       "    </tr>\n",
       "    <tr>\n",
       "      <th>346</th>\n",
       "      <td>62</td>\n",
       "      <td>61</td>\n",
       "      <td>57</td>\n",
       "      <td>0</td>\n",
       "      <td>1</td>\n",
       "      <td>0</td>\n",
       "      <td>1</td>\n",
       "      <td>0</td>\n",
       "      <td>0</td>\n",
       "      <td>0</td>\n",
       "      <td>0</td>\n",
       "      <td>0</td>\n",
       "      <td>0</td>\n",
       "      <td>0</td>\n",
       "      <td>1</td>\n",
       "      <td>0</td>\n",
       "      <td>0</td>\n",
       "      <td>1</td>\n",
       "      <td>0</td>\n",
       "      <td>1</td>\n",
       "    </tr>\n",
       "  </tbody>\n",
       "</table>\n",
       "</div>"
      ],
      "text/plain": [
       "     math_score  reading_score  writing_score  gender_female  gender_male  \\\n",
       "908          67             75             72              1            0   \n",
       "645          65             81             81              1            0   \n",
       "132          87             74             70              0            1   \n",
       "346          62             61             57              0            1   \n",
       "\n",
       "     race/ethnicity_group A  race/ethnicity_group B  race/ethnicity_group C  \\\n",
       "908                       0                       0                       1   \n",
       "645                       0                       1                       0   \n",
       "132                       0                       0                       0   \n",
       "346                       0                       1                       0   \n",
       "\n",
       "     race/ethnicity_group D  race/ethnicity_group E  \\\n",
       "908                       0                       0   \n",
       "645                       0                       0   \n",
       "132                       0                       1   \n",
       "346                       0                       0   \n",
       "\n",
       "     parental_level_of_education_associate's degree  \\\n",
       "908                                               0   \n",
       "645                                               0   \n",
       "132                                               0   \n",
       "346                                               0   \n",
       "\n",
       "     parental_level_of_education_bachelor's degree  \\\n",
       "908                                              1   \n",
       "645                                              1   \n",
       "132                                              0   \n",
       "346                                              0   \n",
       "\n",
       "     parental_level_of_education_high school  \\\n",
       "908                                        0   \n",
       "645                                        0   \n",
       "132                                        0   \n",
       "346                                        0   \n",
       "\n",
       "     parental_level_of_education_master's degree  \\\n",
       "908                                            0   \n",
       "645                                            0   \n",
       "132                                            0   \n",
       "346                                            0   \n",
       "\n",
       "     parental_level_of_education_some college  \\\n",
       "908                                         0   \n",
       "645                                         0   \n",
       "132                                         1   \n",
       "346                                         1   \n",
       "\n",
       "     parental_level_of_education_some high school  lunch_free/reduced  \\\n",
       "908                                             0                   1   \n",
       "645                                             0                   0   \n",
       "132                                             0                   1   \n",
       "346                                             0                   0   \n",
       "\n",
       "     lunch_standard  test_preparation_course_completed  \\\n",
       "908               0                                  0   \n",
       "645               1                                  1   \n",
       "132               0                                  1   \n",
       "346               1                                  0   \n",
       "\n",
       "     test_preparation_course_none  \n",
       "908                             1  \n",
       "645                             0  \n",
       "132                             0  \n",
       "346                             1  "
      ]
     },
     "execution_count": 4,
     "metadata": {},
     "output_type": "execute_result"
    }
   ],
   "source": [
    "columnas_categoricas = ['gender', 'race/ethnicity', 'parental_level_of_education', 'lunch', 'test_preparation_course']\n",
    "columnas_respuestas  = ['math_score', 'reading_score', 'writing_score']\n",
    "\n",
    "df_dummies = pd.get_dummies(df, columns = columnas_categoricas)\n",
    "df_dummies.sample(4)"
   ]
  },
  {
   "cell_type": "code",
   "execution_count": 5,
   "metadata": {
    "colab": {},
    "colab_type": "code",
    "id": "Lq-N6t2vp1Ok"
   },
   "outputs": [],
   "source": [
    "X = df_dummies.drop(labels = columnas_respuestas, axis=1)\n",
    "\n",
    "y = df_dummies[[x for x in df_dummies.columns if x in columnas_respuestas]]\n",
    "\n",
    "X_train, X_test, y_train, y_test = train_test_split(X, y, test_size=0.33)"
   ]
  },
  {
   "cell_type": "markdown",
   "metadata": {
    "colab_type": "text",
    "id": "3Ooo5dQyp1Oq"
   },
   "source": [
    "#### Observemos las dimensiones de las variables independientes (X) y las dependientes (y)"
   ]
  },
  {
   "cell_type": "code",
   "execution_count": 6,
   "metadata": {
    "colab": {},
    "colab_type": "code",
    "id": "zhiEh6mwp1Ot",
    "outputId": "63281edd-d995-414a-db66-b261cdfc1c94"
   },
   "outputs": [
    {
     "data": {
      "text/plain": [
       "((1000, 17), (1000, 3))"
      ]
     },
     "execution_count": 6,
     "metadata": {},
     "output_type": "execute_result"
    }
   ],
   "source": [
    "X.shape, y.shape"
   ]
  },
  {
   "cell_type": "markdown",
   "metadata": {
    "colab_type": "text",
    "id": "ATH78Xlsp1O3"
   },
   "source": [
    "## 2.- Generamos los Modelos"
   ]
  },
  {
   "cell_type": "code",
   "execution_count": 7,
   "metadata": {
    "colab": {},
    "colab_type": "code",
    "id": "OuzkWECCp1O7"
   },
   "outputs": [],
   "source": [
    "from sklearn.linear_model import ElasticNetCV as eNetCv"
   ]
  },
  {
   "cell_type": "markdown",
   "metadata": {
    "colab_type": "text",
    "id": "lWLZrE96p1PL"
   },
   "source": [
    "#### Para matemáticas"
   ]
  },
  {
   "cell_type": "code",
   "execution_count": 8,
   "metadata": {
    "colab": {},
    "colab_type": "code",
    "id": "BmR3QgVtp1PN",
    "outputId": "f90b91a2-cf10-4bba-ca89-8c63dc4650c5"
   },
   "outputs": [
    {
     "name": "stderr",
     "output_type": "stream",
     "text": [
      "[Parallel(n_jobs=-1)]: Using backend ThreadingBackend with 8 concurrent workers.\n",
      "............................................................................................................................................................................................................................................................................................................[Parallel(n_jobs=-1)]: Done   3 out of   3 | elapsed:    0.0s finished\n"
     ]
    },
    {
     "data": {
      "text/plain": [
       "ElasticNetCV(alphas=array([1.000e-03, 1.020e-01, ..., 9.899e+00, 1.000e+01]),\n",
       "       copy_X=True, cv=3, eps=0.001, fit_intercept=True, l1_ratio=0.5,\n",
       "       max_iter=1000, n_alphas=100, n_jobs=-1, normalize=False,\n",
       "       positive=False, precompute='auto', random_state=None,\n",
       "       selection='cyclic', tol=0.0001, verbose=1)"
      ]
     },
     "execution_count": 8,
     "metadata": {},
     "output_type": "execute_result"
    }
   ],
   "source": [
    "model_math = eNetCv(alphas=np.linspace(0.001, 10, 100), cv = 3, n_jobs=-1, verbose=1)\n",
    "\n",
    "model_math.fit(X_train, y_train['math_score'])"
   ]
  },
  {
   "cell_type": "code",
   "execution_count": 9,
   "metadata": {
    "colab": {},
    "colab_type": "code",
    "id": "PimedIIOp1Pa",
    "outputId": "9f2e5aec-a7aa-45ac-818d-826aef0056bc"
   },
   "outputs": [
    {
     "data": {
      "text/plain": [
       "array([65.73447615])"
      ]
     },
     "execution_count": 9,
     "metadata": {},
     "output_type": "execute_result"
    }
   ],
   "source": [
    "# Pedimos una prediccion\n",
    "model_math.predict([[0 for x in range(X.shape[1])]])"
   ]
  },
  {
   "cell_type": "code",
   "execution_count": 10,
   "metadata": {
    "colab": {},
    "colab_type": "code",
    "id": "jsFX9MGep1Pg",
    "outputId": "8241e85e-8ad8-4695-c010-6f7f46345565"
   },
   "outputs": [
    {
     "data": {
      "text/plain": [
       "Index(['math_score', 'reading_score', 'writing_score', 'gender_female',\n",
       "       'gender_male', 'race/ethnicity_group A', 'race/ethnicity_group B',\n",
       "       'race/ethnicity_group C', 'race/ethnicity_group D',\n",
       "       'race/ethnicity_group E',\n",
       "       'parental_level_of_education_associate's degree',\n",
       "       'parental_level_of_education_bachelor's degree',\n",
       "       'parental_level_of_education_high school',\n",
       "       'parental_level_of_education_master's degree',\n",
       "       'parental_level_of_education_some college',\n",
       "       'parental_level_of_education_some high school', 'lunch_free/reduced',\n",
       "       'lunch_standard', 'test_preparation_course_completed',\n",
       "       'test_preparation_course_none'],\n",
       "      dtype='object')"
      ]
     },
     "execution_count": 10,
     "metadata": {},
     "output_type": "execute_result"
    }
   ],
   "source": [
    "# Recordemos que es cada dummy\n",
    "df_dummies.columns"
   ]
  },
  {
   "cell_type": "markdown",
   "metadata": {
    "colab_type": "text",
    "id": "K1q-aZX_p1Pq"
   },
   "source": [
    "#### Realizamos ajuste para lectura"
   ]
  },
  {
   "cell_type": "code",
   "execution_count": 11,
   "metadata": {
    "colab": {},
    "colab_type": "code",
    "id": "CQfiE34Hp1Ps",
    "outputId": "fbbc674a-0c02-40e6-f7d2-2623613b2e35"
   },
   "outputs": [
    {
     "data": {
      "text/plain": [
       "ElasticNetCV(alphas=array([1.000e-03, 1.020e-01, ..., 9.899e+00, 1.000e+01]),\n",
       "       copy_X=True, cv=3, eps=0.001, fit_intercept=True, l1_ratio=0.5,\n",
       "       max_iter=1000, n_alphas=100, n_jobs=-1, normalize=False,\n",
       "       positive=False, precompute='auto', random_state=None,\n",
       "       selection='cyclic', tol=0.0001, verbose=0)"
      ]
     },
     "execution_count": 11,
     "metadata": {},
     "output_type": "execute_result"
    }
   ],
   "source": [
    "model_read = eNetCv(alphas=np.linspace(0.001, 10, 100), cv = 3, n_jobs=-1)\n",
    "\n",
    "model_read.fit(X_train, y_train['reading_score'])"
   ]
  },
  {
   "cell_type": "markdown",
   "metadata": {
    "colab_type": "text",
    "id": "K_1i1my7p1P1"
   },
   "source": [
    "#### Realizamos ajuste para escritura"
   ]
  },
  {
   "cell_type": "code",
   "execution_count": 12,
   "metadata": {
    "colab": {},
    "colab_type": "code",
    "id": "wk2stAhVp1P2",
    "outputId": "46d73586-c34b-4802-f4cc-d27170ba537b"
   },
   "outputs": [
    {
     "data": {
      "text/plain": [
       "ElasticNetCV(alphas=array([1.000e-03, 1.020e-01, ..., 9.899e+00, 1.000e+01]),\n",
       "       copy_X=True, cv=3, eps=0.001, fit_intercept=True, l1_ratio=0.5,\n",
       "       max_iter=1000, n_alphas=100, n_jobs=-1, normalize=False,\n",
       "       positive=False, precompute='auto', random_state=None,\n",
       "       selection='cyclic', tol=0.0001, verbose=0)"
      ]
     },
     "execution_count": 12,
     "metadata": {},
     "output_type": "execute_result"
    }
   ],
   "source": [
    "model_write = eNetCv(alphas=np.linspace(0.001, 10, 100), cv = 3, n_jobs=-1)\n",
    "\n",
    "model_write.fit(X_train, y_train['writing_score'])"
   ]
  },
  {
   "cell_type": "markdown",
   "metadata": {
    "colab_type": "text",
    "id": "B3yJRtSTp1P9"
   },
   "source": [
    "## 3.- Persistencia"
   ]
  },
  {
   "cell_type": "markdown",
   "metadata": {
    "colab_type": "text",
    "id": "bcba6wtDp1P_"
   },
   "source": [
    "#### a) Tomamos los modelos entrenados y los guardamos, esto nos permite disponer a futuro de estos objetos."
   ]
  },
  {
   "cell_type": "code",
   "execution_count": 13,
   "metadata": {
    "colab": {},
    "colab_type": "code",
    "id": "x-ASYzOJp1QA"
   },
   "outputs": [],
   "source": [
    "import os\n",
    "import pickle"
   ]
  },
  {
   "cell_type": "code",
   "execution_count": 14,
   "metadata": {
    "colab": {},
    "colab_type": "code",
    "id": "DWQLyseep1QN"
   },
   "outputs": [],
   "source": [
    "with open('math_model.pkl', 'wb') as f_math:\n",
    "    pickle.dump(model_math, f_math)"
   ]
  },
  {
   "cell_type": "code",
   "execution_count": 15,
   "metadata": {
    "colab": {},
    "colab_type": "code",
    "id": "1XKgLXbSp1QZ"
   },
   "outputs": [],
   "source": [
    "with open('write_model.pkl', 'wb') as f_write:\n",
    "    pickle.dump(model_write, f_write)"
   ]
  },
  {
   "cell_type": "code",
   "execution_count": 16,
   "metadata": {
    "colab": {},
    "colab_type": "code",
    "id": "MJKuggf2p1Qh"
   },
   "outputs": [],
   "source": [
    "with open('read_model.pkl', 'wb') as f_read:\n",
    "    pickle.dump(model_read, f_read)"
   ]
  },
  {
   "cell_type": "code",
   "execution_count": 17,
   "metadata": {
    "colab": {
     "base_uri": "https://localhost:8080/",
     "height": 167
    },
    "colab_type": "code",
    "executionInfo": {
     "elapsed": 738,
     "status": "error",
     "timestamp": 1549051342093,
     "user": {
      "displayName": "Demian Avendaño",
      "photoUrl": "",
      "userId": "00942819244842403216"
     },
     "user_tz": 180
    },
    "id": "wjoxK8lUp1Qo",
    "outputId": "ab79b171-9bc2-40d7-8124-bf93238471af"
   },
   "outputs": [
    {
     "data": {
      "text/plain": [
       "['math_model.pkl', 'read_model.pkl', 'write_model.pkl']"
      ]
     },
     "execution_count": 17,
     "metadata": {},
     "output_type": "execute_result"
    }
   ],
   "source": [
    "# observamos si se encuentran en carpeta\n",
    "[x for x in os.listdir() if 'pkl' in x]"
   ]
  },
  {
   "cell_type": "markdown",
   "metadata": {
    "colab_type": "text",
    "id": "mSirkYqgp1Qz"
   },
   "source": [
    "#### b) Debemos hacer un seguimiento para las variables dummies"
   ]
  },
  {
   "cell_type": "code",
   "execution_count": 19,
   "metadata": {
    "colab": {},
    "colab_type": "code",
    "id": "TtPBa1SHp1Q2"
   },
   "outputs": [],
   "source": [
    "# En esta lista estan ordenadas las dummies segun el indice\n",
    "\n",
    "dummies_encoder = [x.replace(' ', '_').replace(\"'\", '').replace('/', '_') for x in list(X.columns) ]\n",
    "\n",
    "with open('dummies_order.pkl', 'wb') as f_orden_dummy:\n",
    "    pickle.dump(list(dummies_encoder), f_orden_dummy)\n"
   ]
  },
  {
   "cell_type": "code",
   "execution_count": null,
   "metadata": {},
   "outputs": [],
   "source": []
  }
 ],
 "metadata": {
  "colab": {
   "collapsed_sections": [],
   "name": "Practica_Guiada_Flask_final_ejecucion.ipynb",
   "provenance": [],
   "version": "0.3.2"
  },
  "kernelspec": {
   "display_name": "Python 3",
   "language": "python",
   "name": "python3"
  },
  "language_info": {
   "codemirror_mode": {
    "name": "ipython",
    "version": 3
   },
   "file_extension": ".py",
   "mimetype": "text/x-python",
   "name": "python",
   "nbconvert_exporter": "python",
   "pygments_lexer": "ipython3",
   "version": "3.7.4"
  }
 },
 "nbformat": 4,
 "nbformat_minor": 1
}
