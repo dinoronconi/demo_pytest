{
 "cells": [
  {
   "cell_type": "markdown",
   "metadata": {},
   "source": [
    "### Agenda"
   ]
  },
  {
   "cell_type": "markdown",
   "metadata": {},
   "source": [
    "Al comenzar la práctica pedir que busquen un ejemplo\n",
    " de modelo fácil para probar\n",
    "Que arranquen una notebook o entorno para ir probando lo mismo\n",
    "que voy mostrando (va a ser fácil de seguir, que lo intenten)\n",
    "\n",
    "1. ejemplo de serializar lista\n",
    "- usamos el with en lugar de open()\n",
    "2. deserializar lista\n",
    "3. ejemplo de serializar csv\n",
    "4. deserializar y usar csv\n",
    "5. construimos las funciones de serializar y deserializar\n",
    "6. repetimos el ejemplo del csv\n",
    "\n",
    "7. Mostrar el modelo de ElasticNet\n",
    "8. Serializarlo y deserializarlo\n",
    "\n",
    "9. Ejemplo sencillo de post request (ojo la URL, hacer ipconfig y poner la ip correcta por ejemplo 192.168.64.1)\n"
   ]
  },
  {
   "cell_type": "markdown",
   "metadata": {},
   "source": [
    "### Creamos una lista y la serializamos"
   ]
  },
  {
   "cell_type": "code",
   "execution_count": 2,
   "metadata": {},
   "outputs": [],
   "source": [
    "import pickle\n",
    "\n",
    "lista_nombres=[\"Dino\", \"Saurio\", \"Pepa\", \"Pig\"]\n",
    "\n",
    "archivo_binario = open(\"lista_nombres\", \"wb\")\n",
    "\n",
    "pickle.dump(lista_nombres, archivo_binario)\n",
    "\n",
    "archivo_binario.close()\n",
    "\n"
   ]
  },
  {
   "cell_type": "code",
   "execution_count": 3,
   "metadata": {},
   "outputs": [
    {
     "name": "stdout",
     "output_type": "stream",
     "text": [
      "['Dino', 'Saurio', 'Pepa', 'Pig']\n"
     ]
    }
   ],
   "source": [
    "archivo = open(\"lista_nombres\", \"rb\")\n",
    "\n",
    "lista = pickle.load(archivo)\n",
    "\n",
    "print(lista)"
   ]
  },
  {
   "cell_type": "markdown",
   "metadata": {},
   "source": [
    "### Otro ejemplo. Leer un CSV y serializarlo. Enviarlo al chat para que lo usen"
   ]
  },
  {
   "cell_type": "code",
   "execution_count": 7,
   "metadata": {},
   "outputs": [
    {
     "name": "stdout",
     "output_type": "stream",
     "text": [
      "     gender race/ethnicity parental level of education         lunch  \\\n",
      "0    female        group B           bachelor's degree      standard   \n",
      "1    female        group C                some college      standard   \n",
      "2    female        group B             master's degree      standard   \n",
      "3      male        group A          associate's degree  free/reduced   \n",
      "4      male        group C                some college      standard   \n",
      "5    female        group B          associate's degree      standard   \n",
      "6    female        group B                some college      standard   \n",
      "7      male        group B                some college  free/reduced   \n",
      "8      male        group D                 high school  free/reduced   \n",
      "9    female        group B                 high school  free/reduced   \n",
      "10     male        group C          associate's degree      standard   \n",
      "11     male        group D          associate's degree      standard   \n",
      "12   female        group B                 high school      standard   \n",
      "13     male        group A                some college      standard   \n",
      "14   female        group A             master's degree      standard   \n",
      "15   female        group C            some high school      standard   \n",
      "16     male        group C                 high school      standard   \n",
      "17   female        group B            some high school  free/reduced   \n",
      "18     male        group C             master's degree  free/reduced   \n",
      "19   female        group C          associate's degree  free/reduced   \n",
      "20     male        group D                 high school      standard   \n",
      "21   female        group B                some college  free/reduced   \n",
      "22     male        group D                some college      standard   \n",
      "23   female        group C            some high school      standard   \n",
      "24     male        group D           bachelor's degree  free/reduced   \n",
      "25     male        group A             master's degree  free/reduced   \n",
      "26     male        group B                some college      standard   \n",
      "27   female        group C           bachelor's degree      standard   \n",
      "28     male        group C                 high school      standard   \n",
      "29   female        group D             master's degree      standard   \n",
      "..      ...            ...                         ...           ...   \n",
      "970  female        group D           bachelor's degree      standard   \n",
      "971    male        group C            some high school      standard   \n",
      "972  female        group A                 high school  free/reduced   \n",
      "973  female        group D                some college  free/reduced   \n",
      "974  female        group A                some college      standard   \n",
      "975  female        group C                some college      standard   \n",
      "976    male        group B                some college  free/reduced   \n",
      "977    male        group C          associate's degree      standard   \n",
      "978    male        group D                 high school      standard   \n",
      "979  female        group C          associate's degree      standard   \n",
      "980  female        group B                 high school  free/reduced   \n",
      "981    male        group D            some high school      standard   \n",
      "982    male        group B            some high school      standard   \n",
      "983  female        group A                some college      standard   \n",
      "984  female        group C            some high school      standard   \n",
      "985    male        group A                 high school      standard   \n",
      "986  female        group C          associate's degree      standard   \n",
      "987    male        group E            some high school      standard   \n",
      "988  female        group A            some high school  free/reduced   \n",
      "989  female        group D                some college  free/reduced   \n",
      "990    male        group E                 high school  free/reduced   \n",
      "991  female        group B            some high school      standard   \n",
      "992  female        group D          associate's degree  free/reduced   \n",
      "993  female        group D           bachelor's degree  free/reduced   \n",
      "994    male        group A                 high school      standard   \n",
      "995  female        group E             master's degree      standard   \n",
      "996    male        group C                 high school  free/reduced   \n",
      "997  female        group C                 high school  free/reduced   \n",
      "998  female        group D                some college      standard   \n",
      "999  female        group D                some college  free/reduced   \n",
      "\n",
      "    test preparation course  math score  reading score  writing score  \n",
      "0                      none          72             72             74  \n",
      "1                 completed          69             90             88  \n",
      "2                      none          90             95             93  \n",
      "3                      none          47             57             44  \n",
      "4                      none          76             78             75  \n",
      "5                      none          71             83             78  \n",
      "6                 completed          88             95             92  \n",
      "7                      none          40             43             39  \n",
      "8                 completed          64             64             67  \n",
      "9                      none          38             60             50  \n",
      "10                     none          58             54             52  \n",
      "11                     none          40             52             43  \n",
      "12                     none          65             81             73  \n",
      "13                completed          78             72             70  \n",
      "14                     none          50             53             58  \n",
      "15                     none          69             75             78  \n",
      "16                     none          88             89             86  \n",
      "17                     none          18             32             28  \n",
      "18                completed          46             42             46  \n",
      "19                     none          54             58             61  \n",
      "20                     none          66             69             63  \n",
      "21                completed          65             75             70  \n",
      "22                     none          44             54             53  \n",
      "23                     none          69             73             73  \n",
      "24                completed          74             71             80  \n",
      "25                     none          73             74             72  \n",
      "26                     none          69             54             55  \n",
      "27                     none          67             69             75  \n",
      "28                     none          70             70             65  \n",
      "29                     none          62             70             75  \n",
      "..                      ...         ...            ...            ...  \n",
      "970                    none          89            100            100  \n",
      "971               completed          78             72             69  \n",
      "972               completed          53             50             60  \n",
      "973                    none          49             65             61  \n",
      "974                    none          54             63             67  \n",
      "975               completed          64             82             77  \n",
      "976               completed          60             62             60  \n",
      "977                    none          62             65             58  \n",
      "978               completed          55             41             48  \n",
      "979                    none          91             95             94  \n",
      "980                    none           8             24             23  \n",
      "981                    none          81             78             78  \n",
      "982               completed          79             85             86  \n",
      "983               completed          78             87             91  \n",
      "984                    none          74             75             82  \n",
      "985                    none          57             51             54  \n",
      "986                    none          40             59             51  \n",
      "987               completed          81             75             76  \n",
      "988                    none          44             45             45  \n",
      "989               completed          67             86             83  \n",
      "990               completed          86             81             75  \n",
      "991               completed          65             82             78  \n",
      "992                    none          55             76             76  \n",
      "993                    none          62             72             74  \n",
      "994                    none          63             63             62  \n",
      "995               completed          88             99             95  \n",
      "996                    none          62             55             55  \n",
      "997               completed          59             71             65  \n",
      "998               completed          68             78             77  \n",
      "999                    none          77             86             86  \n",
      "\n",
      "[1000 rows x 8 columns]\n"
     ]
    }
   ],
   "source": [
    "import pickle\n",
    "import pandas as pd\n",
    "\n",
    "notas_examen = pd.read_csv(\"StudentsPerformance.csv\")\n",
    "\n",
    "# mostrar el csv\n",
    "print(notas_examen)\n",
    "\n",
    "notas_binario = open(\"StudentsPerformance.pkl\", \"wb\")\n",
    "\n",
    "pickle.dump(notas_examen, notas_binario)\n",
    "\n",
    "archivo_binario.close()\n"
   ]
  },
  {
   "cell_type": "code",
   "execution_count": 8,
   "metadata": {},
   "outputs": [
    {
     "name": "stdout",
     "output_type": "stream",
     "text": [
      "     gender race/ethnicity parental level of education         lunch  \\\n",
      "0    female        group B           bachelor's degree      standard   \n",
      "1    female        group C                some college      standard   \n",
      "2    female        group B             master's degree      standard   \n",
      "3      male        group A          associate's degree  free/reduced   \n",
      "4      male        group C                some college      standard   \n",
      "5    female        group B          associate's degree      standard   \n",
      "6    female        group B                some college      standard   \n",
      "7      male        group B                some college  free/reduced   \n",
      "8      male        group D                 high school  free/reduced   \n",
      "9    female        group B                 high school  free/reduced   \n",
      "10     male        group C          associate's degree      standard   \n",
      "11     male        group D          associate's degree      standard   \n",
      "12   female        group B                 high school      standard   \n",
      "13     male        group A                some college      standard   \n",
      "14   female        group A             master's degree      standard   \n",
      "15   female        group C            some high school      standard   \n",
      "16     male        group C                 high school      standard   \n",
      "17   female        group B            some high school  free/reduced   \n",
      "18     male        group C             master's degree  free/reduced   \n",
      "19   female        group C          associate's degree  free/reduced   \n",
      "20     male        group D                 high school      standard   \n",
      "21   female        group B                some college  free/reduced   \n",
      "22     male        group D                some college      standard   \n",
      "23   female        group C            some high school      standard   \n",
      "24     male        group D           bachelor's degree  free/reduced   \n",
      "25     male        group A             master's degree  free/reduced   \n",
      "26     male        group B                some college      standard   \n",
      "27   female        group C           bachelor's degree      standard   \n",
      "28     male        group C                 high school      standard   \n",
      "29   female        group D             master's degree      standard   \n",
      "..      ...            ...                         ...           ...   \n",
      "970  female        group D           bachelor's degree      standard   \n",
      "971    male        group C            some high school      standard   \n",
      "972  female        group A                 high school  free/reduced   \n",
      "973  female        group D                some college  free/reduced   \n",
      "974  female        group A                some college      standard   \n",
      "975  female        group C                some college      standard   \n",
      "976    male        group B                some college  free/reduced   \n",
      "977    male        group C          associate's degree      standard   \n",
      "978    male        group D                 high school      standard   \n",
      "979  female        group C          associate's degree      standard   \n",
      "980  female        group B                 high school  free/reduced   \n",
      "981    male        group D            some high school      standard   \n",
      "982    male        group B            some high school      standard   \n",
      "983  female        group A                some college      standard   \n",
      "984  female        group C            some high school      standard   \n",
      "985    male        group A                 high school      standard   \n",
      "986  female        group C          associate's degree      standard   \n",
      "987    male        group E            some high school      standard   \n",
      "988  female        group A            some high school  free/reduced   \n",
      "989  female        group D                some college  free/reduced   \n",
      "990    male        group E                 high school  free/reduced   \n",
      "991  female        group B            some high school      standard   \n",
      "992  female        group D          associate's degree  free/reduced   \n",
      "993  female        group D           bachelor's degree  free/reduced   \n",
      "994    male        group A                 high school      standard   \n",
      "995  female        group E             master's degree      standard   \n",
      "996    male        group C                 high school  free/reduced   \n",
      "997  female        group C                 high school  free/reduced   \n",
      "998  female        group D                some college      standard   \n",
      "999  female        group D                some college  free/reduced   \n",
      "\n",
      "    test preparation course  math score  reading score  writing score  \n",
      "0                      none          72             72             74  \n",
      "1                 completed          69             90             88  \n",
      "2                      none          90             95             93  \n",
      "3                      none          47             57             44  \n",
      "4                      none          76             78             75  \n",
      "5                      none          71             83             78  \n",
      "6                 completed          88             95             92  \n",
      "7                      none          40             43             39  \n",
      "8                 completed          64             64             67  \n",
      "9                      none          38             60             50  \n",
      "10                     none          58             54             52  \n",
      "11                     none          40             52             43  \n",
      "12                     none          65             81             73  \n",
      "13                completed          78             72             70  \n",
      "14                     none          50             53             58  \n",
      "15                     none          69             75             78  \n",
      "16                     none          88             89             86  \n",
      "17                     none          18             32             28  \n",
      "18                completed          46             42             46  \n",
      "19                     none          54             58             61  \n",
      "20                     none          66             69             63  \n",
      "21                completed          65             75             70  \n",
      "22                     none          44             54             53  \n",
      "23                     none          69             73             73  \n",
      "24                completed          74             71             80  \n",
      "25                     none          73             74             72  \n",
      "26                     none          69             54             55  \n",
      "27                     none          67             69             75  \n",
      "28                     none          70             70             65  \n",
      "29                     none          62             70             75  \n",
      "..                      ...         ...            ...            ...  \n",
      "970                    none          89            100            100  \n",
      "971               completed          78             72             69  \n",
      "972               completed          53             50             60  \n",
      "973                    none          49             65             61  \n",
      "974                    none          54             63             67  \n",
      "975               completed          64             82             77  \n",
      "976               completed          60             62             60  \n",
      "977                    none          62             65             58  \n",
      "978               completed          55             41             48  \n",
      "979                    none          91             95             94  \n",
      "980                    none           8             24             23  \n",
      "981                    none          81             78             78  \n",
      "982               completed          79             85             86  \n",
      "983               completed          78             87             91  \n",
      "984                    none          74             75             82  \n",
      "985                    none          57             51             54  \n",
      "986                    none          40             59             51  \n",
      "987               completed          81             75             76  \n",
      "988                    none          44             45             45  \n",
      "989               completed          67             86             83  \n",
      "990               completed          86             81             75  \n",
      "991               completed          65             82             78  \n",
      "992                    none          55             76             76  \n",
      "993                    none          62             72             74  \n",
      "994                    none          63             63             62  \n",
      "995               completed          88             99             95  \n",
      "996                    none          62             55             55  \n",
      "997               completed          59             71             65  \n",
      "998               completed          68             78             77  \n",
      "999                    none          77             86             86  \n",
      "\n",
      "[1000 rows x 8 columns]\n"
     ]
    }
   ],
   "source": [
    "archivo = open(\"StudentsPerformance.pkl\", \"rb\")\n",
    "\n",
    "notas = pickle.load(archivo)\n",
    "\n",
    "print(notas)"
   ]
  },
  {
   "cell_type": "markdown",
   "metadata": {},
   "source": [
    "### Creamos una función para serializar objetos"
   ]
  },
  {
   "cell_type": "code",
   "execution_count": 9,
   "metadata": {},
   "outputs": [],
   "source": [
    "def serializar(objeto_a_serializar, nombre_del_archivo):\n",
    "    _ret = 0\n",
    "    try:\n",
    "        with open(nombre_del_archivo, \"wb\") as archivo_en_disco:\n",
    "            pickle.dump(objeto_a_serializar, archivo_en_disco)\n",
    "            _ret = 0\n",
    "    except Exception as e:\n",
    "        print('Error!',e)\n",
    "        _ret = 1\n",
    "    return _ret\n",
    "   \n",
    "def deserializar(nombre_del_archivo):\n",
    "    _ret = ''\n",
    "    try:\n",
    "        with open(nombre_del_archivo, \"rb\") as archivo_en_disco:\n",
    "            objeto_a_deserializar = pickle.load(archivo_en_disco)\n",
    "            _ret = objeto_a_deserializar\n",
    "    except Exception as e:\n",
    "        print('Error!',e)\n",
    "        _ret = ''\n",
    "    return _ret\n"
   ]
  },
  {
   "cell_type": "code",
   "execution_count": 10,
   "metadata": {},
   "outputs": [
    {
     "data": {
      "text/plain": [
       "0"
      ]
     },
     "execution_count": 10,
     "metadata": {},
     "output_type": "execute_result"
    }
   ],
   "source": [
    "import pickle\n",
    "import pandas as pd\n",
    "\n",
    "notas_examen = pd.read_csv(\"StudentsPerformance.csv\")\n",
    "\n",
    "serializar(notas_examen, \"StudentsPerformance.pkl\")\n"
   ]
  },
  {
   "cell_type": "code",
   "execution_count": 12,
   "metadata": {},
   "outputs": [
    {
     "data": {
      "text/plain": [
       "ElasticNetCV(alphas=array([1.000e-03, 1.020e-01, ..., 9.899e+00, 1.000e+01]),\n",
       "       copy_X=True, cv=4, eps=0.001, fit_intercept=True, l1_ratio=0.5,\n",
       "       max_iter=1000, n_alphas=100, n_jobs=-1, normalize=False,\n",
       "       positive=False, precompute='auto', random_state=None,\n",
       "       selection='cyclic', tol=0.0001, verbose=1)"
      ]
     },
     "execution_count": 12,
     "metadata": {},
     "output_type": "execute_result"
    }
   ],
   "source": [
    "import pickle\n",
    "import numpy as np\n",
    "from flask import Flask, jsonify, request\n",
    "\n",
    "data = { \"model\" : \"math\",\n",
    "        \"dummies\": [\"1\", \"0\", \"1\", \"0\", \"0\", \"0\", \"0\", \"1\", \"1\", \"0\", \"0\", \"0\", \"1\", \"0\", 0, \"1\", \"1\"] }\n",
    "\n",
    "with open('model_math.pkl', 'rb') as f_math:\n",
    "    \n",
    "    modelo_matematicas = pickle.load(f_math)\n",
    "\n",
    "modelo_matematicas"
   ]
  },
  {
   "cell_type": "code",
   "execution_count": 15,
   "metadata": {},
   "outputs": [
    {
     "data": {
      "text/html": [
       "<div>\n",
       "<style scoped>\n",
       "    .dataframe tbody tr th:only-of-type {\n",
       "        vertical-align: middle;\n",
       "    }\n",
       "\n",
       "    .dataframe tbody tr th {\n",
       "        vertical-align: top;\n",
       "    }\n",
       "\n",
       "    .dataframe thead th {\n",
       "        text-align: right;\n",
       "    }\n",
       "</style>\n",
       "<table border=\"1\" class=\"dataframe\">\n",
       "  <thead>\n",
       "    <tr style=\"text-align: right;\">\n",
       "      <th></th>\n",
       "      <th>gender</th>\n",
       "      <th>race/ethnicity</th>\n",
       "      <th>parental_level_of_education</th>\n",
       "      <th>lunch</th>\n",
       "      <th>test_preparation_course</th>\n",
       "      <th>math_score</th>\n",
       "      <th>reading_score</th>\n",
       "      <th>writing_score</th>\n",
       "    </tr>\n",
       "  </thead>\n",
       "  <tbody>\n",
       "    <tr>\n",
       "      <th>0</th>\n",
       "      <td>female</td>\n",
       "      <td>group B</td>\n",
       "      <td>bachelor's degree</td>\n",
       "      <td>standard</td>\n",
       "      <td>none</td>\n",
       "      <td>72</td>\n",
       "      <td>72</td>\n",
       "      <td>74</td>\n",
       "    </tr>\n",
       "    <tr>\n",
       "      <th>1</th>\n",
       "      <td>female</td>\n",
       "      <td>group C</td>\n",
       "      <td>some college</td>\n",
       "      <td>standard</td>\n",
       "      <td>completed</td>\n",
       "      <td>69</td>\n",
       "      <td>90</td>\n",
       "      <td>88</td>\n",
       "    </tr>\n",
       "    <tr>\n",
       "      <th>2</th>\n",
       "      <td>female</td>\n",
       "      <td>group B</td>\n",
       "      <td>master's degree</td>\n",
       "      <td>standard</td>\n",
       "      <td>none</td>\n",
       "      <td>90</td>\n",
       "      <td>95</td>\n",
       "      <td>93</td>\n",
       "    </tr>\n",
       "    <tr>\n",
       "      <th>3</th>\n",
       "      <td>male</td>\n",
       "      <td>group A</td>\n",
       "      <td>associate's degree</td>\n",
       "      <td>free/reduced</td>\n",
       "      <td>none</td>\n",
       "      <td>47</td>\n",
       "      <td>57</td>\n",
       "      <td>44</td>\n",
       "    </tr>\n",
       "  </tbody>\n",
       "</table>\n",
       "</div>"
      ],
      "text/plain": [
       "   gender race/ethnicity parental_level_of_education         lunch  \\\n",
       "0  female        group B           bachelor's degree      standard   \n",
       "1  female        group C                some college      standard   \n",
       "2  female        group B             master's degree      standard   \n",
       "3    male        group A          associate's degree  free/reduced   \n",
       "\n",
       "  test_preparation_course  math_score  reading_score  writing_score  \n",
       "0                    none          72             72             74  \n",
       "1               completed          69             90             88  \n",
       "2                    none          90             95             93  \n",
       "3                    none          47             57             44  "
      ]
     },
     "execution_count": 15,
     "metadata": {},
     "output_type": "execute_result"
    }
   ],
   "source": [
    "# reemplazamos los espacios por _ \n",
    "df.columns = [x.replace(' ', '_') for x in df.columns]\n",
    "df.head(4)"
   ]
  },
  {
   "cell_type": "code",
   "execution_count": 16,
   "metadata": {},
   "outputs": [
    {
     "data": {
      "text/html": [
       "<div>\n",
       "<style scoped>\n",
       "    .dataframe tbody tr th:only-of-type {\n",
       "        vertical-align: middle;\n",
       "    }\n",
       "\n",
       "    .dataframe tbody tr th {\n",
       "        vertical-align: top;\n",
       "    }\n",
       "\n",
       "    .dataframe thead th {\n",
       "        text-align: right;\n",
       "    }\n",
       "</style>\n",
       "<table border=\"1\" class=\"dataframe\">\n",
       "  <thead>\n",
       "    <tr style=\"text-align: right;\">\n",
       "      <th></th>\n",
       "      <th>math_score</th>\n",
       "      <th>reading_score</th>\n",
       "      <th>writing_score</th>\n",
       "      <th>gender_female</th>\n",
       "      <th>gender_male</th>\n",
       "      <th>race/ethnicity_group A</th>\n",
       "      <th>race/ethnicity_group B</th>\n",
       "      <th>race/ethnicity_group C</th>\n",
       "      <th>race/ethnicity_group D</th>\n",
       "      <th>race/ethnicity_group E</th>\n",
       "      <th>parental_level_of_education_associate's degree</th>\n",
       "      <th>parental_level_of_education_bachelor's degree</th>\n",
       "      <th>parental_level_of_education_high school</th>\n",
       "      <th>parental_level_of_education_master's degree</th>\n",
       "      <th>parental_level_of_education_some college</th>\n",
       "      <th>parental_level_of_education_some high school</th>\n",
       "      <th>lunch_free/reduced</th>\n",
       "      <th>lunch_standard</th>\n",
       "      <th>test_preparation_course_completed</th>\n",
       "      <th>test_preparation_course_none</th>\n",
       "    </tr>\n",
       "  </thead>\n",
       "  <tbody>\n",
       "    <tr>\n",
       "      <th>686</th>\n",
       "      <td>85</td>\n",
       "      <td>75</td>\n",
       "      <td>68</td>\n",
       "      <td>0</td>\n",
       "      <td>1</td>\n",
       "      <td>0</td>\n",
       "      <td>0</td>\n",
       "      <td>0</td>\n",
       "      <td>0</td>\n",
       "      <td>1</td>\n",
       "      <td>0</td>\n",
       "      <td>0</td>\n",
       "      <td>0</td>\n",
       "      <td>0</td>\n",
       "      <td>1</td>\n",
       "      <td>0</td>\n",
       "      <td>0</td>\n",
       "      <td>1</td>\n",
       "      <td>1</td>\n",
       "      <td>0</td>\n",
       "    </tr>\n",
       "    <tr>\n",
       "      <th>215</th>\n",
       "      <td>84</td>\n",
       "      <td>83</td>\n",
       "      <td>75</td>\n",
       "      <td>0</td>\n",
       "      <td>1</td>\n",
       "      <td>0</td>\n",
       "      <td>1</td>\n",
       "      <td>0</td>\n",
       "      <td>0</td>\n",
       "      <td>0</td>\n",
       "      <td>0</td>\n",
       "      <td>0</td>\n",
       "      <td>0</td>\n",
       "      <td>0</td>\n",
       "      <td>0</td>\n",
       "      <td>1</td>\n",
       "      <td>0</td>\n",
       "      <td>1</td>\n",
       "      <td>1</td>\n",
       "      <td>0</td>\n",
       "    </tr>\n",
       "    <tr>\n",
       "      <th>6</th>\n",
       "      <td>88</td>\n",
       "      <td>95</td>\n",
       "      <td>92</td>\n",
       "      <td>1</td>\n",
       "      <td>0</td>\n",
       "      <td>0</td>\n",
       "      <td>1</td>\n",
       "      <td>0</td>\n",
       "      <td>0</td>\n",
       "      <td>0</td>\n",
       "      <td>0</td>\n",
       "      <td>0</td>\n",
       "      <td>0</td>\n",
       "      <td>0</td>\n",
       "      <td>1</td>\n",
       "      <td>0</td>\n",
       "      <td>0</td>\n",
       "      <td>1</td>\n",
       "      <td>1</td>\n",
       "      <td>0</td>\n",
       "    </tr>\n",
       "    <tr>\n",
       "      <th>378</th>\n",
       "      <td>71</td>\n",
       "      <td>83</td>\n",
       "      <td>77</td>\n",
       "      <td>1</td>\n",
       "      <td>0</td>\n",
       "      <td>1</td>\n",
       "      <td>0</td>\n",
       "      <td>0</td>\n",
       "      <td>0</td>\n",
       "      <td>0</td>\n",
       "      <td>0</td>\n",
       "      <td>0</td>\n",
       "      <td>0</td>\n",
       "      <td>0</td>\n",
       "      <td>0</td>\n",
       "      <td>1</td>\n",
       "      <td>0</td>\n",
       "      <td>1</td>\n",
       "      <td>0</td>\n",
       "      <td>1</td>\n",
       "    </tr>\n",
       "  </tbody>\n",
       "</table>\n",
       "</div>"
      ],
      "text/plain": [
       "     math_score  reading_score  writing_score  gender_female  gender_male  \\\n",
       "686          85             75             68              0            1   \n",
       "215          84             83             75              0            1   \n",
       "6            88             95             92              1            0   \n",
       "378          71             83             77              1            0   \n",
       "\n",
       "     race/ethnicity_group A  race/ethnicity_group B  race/ethnicity_group C  \\\n",
       "686                       0                       0                       0   \n",
       "215                       0                       1                       0   \n",
       "6                         0                       1                       0   \n",
       "378                       1                       0                       0   \n",
       "\n",
       "     race/ethnicity_group D  race/ethnicity_group E  \\\n",
       "686                       0                       1   \n",
       "215                       0                       0   \n",
       "6                         0                       0   \n",
       "378                       0                       0   \n",
       "\n",
       "     parental_level_of_education_associate's degree  \\\n",
       "686                                               0   \n",
       "215                                               0   \n",
       "6                                                 0   \n",
       "378                                               0   \n",
       "\n",
       "     parental_level_of_education_bachelor's degree  \\\n",
       "686                                              0   \n",
       "215                                              0   \n",
       "6                                                0   \n",
       "378                                              0   \n",
       "\n",
       "     parental_level_of_education_high school  \\\n",
       "686                                        0   \n",
       "215                                        0   \n",
       "6                                          0   \n",
       "378                                        0   \n",
       "\n",
       "     parental_level_of_education_master's degree  \\\n",
       "686                                            0   \n",
       "215                                            0   \n",
       "6                                              0   \n",
       "378                                            0   \n",
       "\n",
       "     parental_level_of_education_some college  \\\n",
       "686                                         1   \n",
       "215                                         0   \n",
       "6                                           1   \n",
       "378                                         0   \n",
       "\n",
       "     parental_level_of_education_some high school  lunch_free/reduced  \\\n",
       "686                                             0                   0   \n",
       "215                                             1                   0   \n",
       "6                                               0                   0   \n",
       "378                                             1                   0   \n",
       "\n",
       "     lunch_standard  test_preparation_course_completed  \\\n",
       "686               1                                  1   \n",
       "215               1                                  1   \n",
       "6                 1                                  1   \n",
       "378               1                                  0   \n",
       "\n",
       "     test_preparation_course_none  \n",
       "686                             0  \n",
       "215                             0  \n",
       "6                               0  \n",
       "378                             1  "
      ]
     },
     "execution_count": 16,
     "metadata": {},
     "output_type": "execute_result"
    }
   ],
   "source": [
    "columnas_categoricas = ['gender', 'race/ethnicity', 'parental_level_of_education', 'lunch', 'test_preparation_course']\n",
    "columnas_respuestas  = ['math_score', 'reading_score', 'writing_score']\n",
    "\n",
    "df_dummies = pd.get_dummies(df, columns = columnas_categoricas)\n",
    "df_dummies.sample(4)"
   ]
  },
  {
   "cell_type": "code",
   "execution_count": 17,
   "metadata": {},
   "outputs": [],
   "source": [
    "X = df_dummies.drop(labels = columnas_respuestas, axis=1)\n",
    "\n",
    "y = df_dummies[[x for x in df_dummies.columns if x in columnas_respuestas]]\n",
    "\n",
    "X_train, X_test, y_train, y_test = train_test_split(X, y, test_size=0.33)"
   ]
  },
  {
   "cell_type": "code",
   "execution_count": 21,
   "metadata": {},
   "outputs": [
    {
     "name": "stderr",
     "output_type": "stream",
     "text": [
      "[Parallel(n_jobs=-1)]: Using backend ThreadingBackend with 8 concurrent workers.\n",
      "................................................................................................................................................................................................................................................................................................................................................................................................................[Parallel(n_jobs=-1)]: Done   4 out of   4 | elapsed:    0.0s remaining:    0.0s\n",
      "[Parallel(n_jobs=-1)]: Done   4 out of   4 | elapsed:    0.0s finished\n"
     ]
    },
    {
     "data": {
      "text/plain": [
       "ElasticNetCV(alphas=array([1.000e-03, 1.020e-01, ..., 9.899e+00, 1.000e+01]),\n",
       "       copy_X=True, cv=4, eps=0.001, fit_intercept=True, l1_ratio=0.5,\n",
       "       max_iter=1000, n_alphas=100, n_jobs=-1, normalize=False,\n",
       "       positive=False, precompute='auto', random_state=None,\n",
       "       selection='cyclic', tol=0.0001, verbose=1)"
      ]
     },
     "execution_count": 21,
     "metadata": {},
     "output_type": "execute_result"
    }
   ],
   "source": [
    "# Genero el modelo para matematica\n",
    "model_math = eNetCv(alphas=np.linspace(0.001, 10, 100), cv = 4, n_jobs=-1, verbose=1)\n",
    "\n",
    "model_math.fit(X_train, y_train['math_score'])"
   ]
  },
  {
   "cell_type": "code",
   "execution_count": 22,
   "metadata": {},
   "outputs": [
    {
     "data": {
      "text/plain": [
       "(1000, 17)"
      ]
     },
     "execution_count": 22,
     "metadata": {},
     "output_type": "execute_result"
    }
   ],
   "source": [
    "X.shape"
   ]
  },
  {
   "cell_type": "code",
   "execution_count": 23,
   "metadata": {},
   "outputs": [
    {
     "data": {
      "text/plain": [
       "array([66.01686004])"
      ]
     },
     "execution_count": 23,
     "metadata": {},
     "output_type": "execute_result"
    }
   ],
   "source": [
    "# Pedimos una prediccion\n",
    "model_math.predict([[0 for x in range(X.shape[1])]])"
   ]
  },
  {
   "cell_type": "code",
   "execution_count": 26,
   "metadata": {},
   "outputs": [
    {
     "data": {
      "text/plain": [
       "array([64.67825308])"
      ]
     },
     "execution_count": 26,
     "metadata": {},
     "output_type": "execute_result"
    }
   ],
   "source": [
    "data = [1,1,1,1,1,1,1,1,1,1,1,1,1,1,1,1,1]\n",
    "model_math.predict([data])"
   ]
  },
  {
   "cell_type": "code",
   "execution_count": 27,
   "metadata": {},
   "outputs": [
    {
     "data": {
      "text/plain": [
       "'[1, 1, 1, 1, 1, 1, 1, 1, 1, 1, 1, 1, 1, 1, 1, 1, 1]'"
      ]
     },
     "execution_count": 27,
     "metadata": {},
     "output_type": "execute_result"
    }
   ],
   "source": [
    "import json\n",
    "json.dumps(data)"
   ]
  },
  {
   "cell_type": "code",
   "execution_count": 28,
   "metadata": {},
   "outputs": [
    {
     "data": {
      "text/plain": [
       "0"
      ]
     },
     "execution_count": 28,
     "metadata": {},
     "output_type": "execute_result"
    }
   ],
   "source": [
    "serializar(model_math, \"model_math.pkl\")"
   ]
  },
  {
   "cell_type": "code",
   "execution_count": 32,
   "metadata": {},
   "outputs": [],
   "source": [
    "import pickle\n",
    "import pandas as pd \n",
    "\n",
    "notas_examen = pd.read_csv(\"StudentsPerformance.csv\")\n",
    "\n",
    "with open(\"archivo_notas.pkl\", \"wb\") as archivo_notas:\n",
    "   pickle.dump(notas_examen, archivo_notas)\n"
   ]
  },
  {
   "cell_type": "markdown",
   "metadata": {},
   "source": [
    "### FLASK Servidor"
   ]
  },
  {
   "cell_type": "code",
   "execution_count": null,
   "metadata": {},
   "outputs": [],
   "source": [
    "import pickle\n",
    "import numpy as np\n",
    "from flask import Flask, jsonify, request"
   ]
  },
  {
   "cell_type": "code",
   "execution_count": 34,
   "metadata": {},
   "outputs": [],
   "source": [
    "# vamos a cargar uno de los modelos en memoria a partir de un archivo pickle\n",
    "# el archivo se mantiene abierto solo en el ambito del with, despues del bloque se cierra automaticamente.\n",
    "with open('model_math.pkl', 'rb') as f_math:\n",
    "    \n",
    "    modelo_matematicas = pickle.load(f_math)"
   ]
  },
  {
   "cell_type": "markdown",
   "metadata": {},
   "source": [
    "Para poner el modelo a disposición, debemos tener en cuenta como vamos a definir la comunicación\n",
    "\n",
    "En nuestro caso vamos a responder a un POST requests cuyo contenido va a ser un json como este :\n",
    "\n",
    "{ \"model\" : \"math\",\n",
    "\n",
    "\"dummies\": [\"1\", \"0\", \"1\", \"0\", \"0\", \"0\", \"0\", \"1\", \"1\", \"0\", \"0\", \"0\", \"1\", \"0\", \"1\", \"0\", \"1\"] }\n",
    "\n",
    "En donde cada posicion de un elemento en el array representa una dummy ordenada.\n",
    "\n",
    "Para poder trabajar con este json debemos parsear el contenido del post requests (o sea el contenido que nos va a solicitar un potencial cliente).\n",
    "\n",
    "Vamos a utilizar la funcionalidad dada por la clase requests de flask para tratar la petición.\n",
    "\n",
    "La clase requests tiene un metodo get_json que permite parsear el contenido de un request especificado como json."
   ]
  },
  {
   "cell_type": "code",
   "execution_count": 36,
   "metadata": {},
   "outputs": [],
   "source": [
    "app = Flask('Predictor de examenes')\n",
    "\n",
    "@app.route('/',methods=['POST'])\n",
    "def predict():\n",
    "    \n",
    "    # obtengo los datos del request post.\n",
    "    # notar que en este contexto request contiene la informacion \n",
    "    # que viene de la peticion externa (el metodo get_json lo transforma en un diccionario)\n",
    "    data = request.get_json(force=True)\n",
    "    \n",
    "    \n",
    "    # transformamos el dato del json (un array de string) en un array de enteros de numpy\n",
    "    # para que lo entienda el modelo, notar la forma del array y la transformacion de los tipos de datos\n",
    "    X_para_prediccion = np.array(data['dummies']).reshape(1, -1).astype('int')\n",
    "    \n",
    "    # implementamos una logica en donde elegimos un modelo (podrian ser los otros modelos, lect/escritura)\n",
    "    if data['model'] == 'math':\n",
    "        \n",
    "        # asignamos el array de numpy que nos devuelve una prediccion\n",
    "        output = modelo_matematicas.predict(X_para_prediccion)\n",
    "                \n",
    "        # esta prediccion es un array de un solo elemento\n",
    "        prediccion = output[0]\n",
    "        \n",
    "        # Le damos forma de un diccionario para poder hacer el traspaso a json trivialmente\n",
    "        output = {'prediccion': prediccion}\n",
    "        \n",
    "        # en esta linea, transformamos el diccionario en json con jsonify (funcionalidad de flask)\n",
    "        # y respondemos el request con un json mediante este return\n",
    "        # este json es incorporado en el cuerpo de la respuesta\n",
    "        return jsonify(output)"
   ]
  },
  {
   "cell_type": "markdown",
   "metadata": {},
   "source": [
    "### Lo ponemos a escuchar"
   ]
  },
  {
   "cell_type": "code",
   "execution_count": 38,
   "metadata": {},
   "outputs": [
    {
     "name": "stdout",
     "output_type": "stream",
     "text": [
      " * Serving Flask app \"Predictor de examenes\" (lazy loading)\n",
      " * Environment: production\n",
      "   WARNING: This is a development server. Do not use it in a production deployment.\n",
      "   Use a production WSGI server instead.\n",
      " * Debug mode: off\n"
     ]
    },
    {
     "name": "stderr",
     "output_type": "stream",
     "text": [
      " * Running on http://192.168.0.11:5000/ (Press CTRL+C to quit)\n",
      "192.168.0.11 - - [09/Jun/2021 22:50:21] \"\u001b[37mPOST / HTTP/1.1\u001b[0m\" 200 -\n",
      "192.168.0.11 - - [09/Jun/2021 22:50:29] \"\u001b[37mPOST / HTTP/1.1\u001b[0m\" 200 -\n",
      "192.168.0.11 - - [09/Jun/2021 22:50:36] \"\u001b[37mPOST / HTTP/1.1\u001b[0m\" 200 -\n",
      "192.168.0.11 - - [09/Jun/2021 22:50:49] \"\u001b[37mPOST / HTTP/1.1\u001b[0m\" 200 -\n",
      "192.168.0.11 - - [09/Jun/2021 22:51:09] \"\u001b[37mPOST / HTTP/1.1\u001b[0m\" 200 -\n"
     ]
    }
   ],
   "source": [
    "# el puerto 5000 es por default\n",
    "app.run(host='192.168.0.11', port=5000 ) \n",
    "#app.run(host='192.168.0.11', port=5000 ) \n",
    "#172.25.112.1\n",
    "#172.24.128.1"
   ]
  },
  {
   "cell_type": "markdown",
   "metadata": {},
   "source": [
    "### Código para el request"
   ]
  },
  {
   "cell_type": "code",
   "execution_count": null,
   "metadata": {},
   "outputs": [],
   "source": [
    "\n",
    "    \n",
    "import json\n",
    "import requests\n",
    "\n",
    "url = 'http://172.25.112.1:5000'\n",
    "#172.24.128.1\n",
    "#192.168.0.11\n",
    "#172.25.112.1\n",
    "\n",
    "data = { \"model\" : \"math\",\n",
    "        \"dummies\": [\"1\", \"0\", \"1\", \"0\", \"1\", \"0\", \"0\", \"0\", \"1\", \"0\", \"0\", \"0\", \"1\", \"0\", 0, \"1\", \"1\"] }\n",
    "    \n",
    "r = requests.post(url, json.dumps(data))\n",
    "\n",
    "print(r.json())"
   ]
  },
  {
   "cell_type": "markdown",
   "metadata": {},
   "source": [
    "### Ejemplo Flask \"Hola Mundo\""
   ]
  },
  {
   "cell_type": "code",
   "execution_count": 44,
   "metadata": {},
   "outputs": [],
   "source": [
    "# Servidor prueba\n",
    "from flask import Flask, jsonify, request\n",
    "\n",
    "app = Flask('Prueba')\n",
    "\n",
    "@app.route('/',methods=['POST'])\n",
    "\n",
    "def prueba():\n",
    "    # no hago nada\n",
    "    return jsonify(\"Hola Mundo!\")"
   ]
  },
  {
   "cell_type": "code",
   "execution_count": 45,
   "metadata": {},
   "outputs": [
    {
     "name": "stdout",
     "output_type": "stream",
     "text": [
      " * Serving Flask app \"Prueba\" (lazy loading)\n",
      " * Environment: production\n",
      "   WARNING: This is a development server. Do not use it in a production deployment.\n",
      "   Use a production WSGI server instead.\n",
      " * Debug mode: off\n"
     ]
    },
    {
     "name": "stderr",
     "output_type": "stream",
     "text": [
      " * Running on http://192.168.0.11:5001/ (Press CTRL+C to quit)\n",
      "192.168.0.11 - - [10/Jun/2021 08:27:50] \"\u001b[37mPOST / HTTP/1.1\u001b[0m\" 200 -\n",
      "192.168.0.11 - - [10/Jun/2021 08:29:08] \"\u001b[37mPOST / HTTP/1.1\u001b[0m\" 200 -\n",
      "192.168.0.11 - - [10/Jun/2021 08:29:21] \"\u001b[37mPOST / HTTP/1.1\u001b[0m\" 200 -\n",
      "192.168.0.11 - - [10/Jun/2021 08:29:37] \"\u001b[33mGET /POST= HTTP/1.1\u001b[0m\" 404 -\n",
      "192.168.0.11 - - [10/Jun/2021 08:29:47] \"\u001b[1m\u001b[31mGET / HTTP/1.1\u001b[0m\" 405 -\n",
      "192.168.0.11 - - [10/Jun/2021 08:29:57] \"\u001b[1m\u001b[31mGET / HTTP/1.1\u001b[0m\" 405 -\n"
     ]
    }
   ],
   "source": [
    "# Lo ponemos a escuchar en el puerto 5001 \n",
    "app.run(host='192.168.0.11', port=5001 ) "
   ]
  },
  {
   "cell_type": "code",
   "execution_count": null,
   "metadata": {},
   "outputs": [],
   "source": [
    "### Request simple a \"Hola Mundo\""
   ]
  },
  {
   "cell_type": "code",
   "execution_count": null,
   "metadata": {},
   "outputs": [],
   "source": [
    "import json\n",
    "import requests\n",
    "\n",
    "url = 'http://192.168.0.11:5001'\n",
    "    \n",
    "r = requests.post(url)\n",
    "\n",
    "print(r.json())"
   ]
  }
 ],
 "metadata": {
  "kernelspec": {
   "display_name": "Python 3",
   "language": "python",
   "name": "python3"
  },
  "language_info": {
   "codemirror_mode": {
    "name": "ipython",
    "version": 3
   },
   "file_extension": ".py",
   "mimetype": "text/x-python",
   "name": "python",
   "nbconvert_exporter": "python",
   "pygments_lexer": "ipython3",
   "version": "3.7.4"
  },
  "metadata": {
   "interpreter": {
    "hash": "04d14c0cd8912b1965b0a4d73a86a4287c579d2a906ba0d988b168ce99777837"
   }
  }
 },
 "nbformat": 4,
 "nbformat_minor": 2
}
